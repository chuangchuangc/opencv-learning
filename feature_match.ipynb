{
 "cells": [
  {
   "cell_type": "code",
   "execution_count": 2,
   "metadata": {},
   "outputs": [],
   "source": [
    "import cv2\n",
    "import numpy as np"
   ]
  },
  {
   "cell_type": "code",
   "execution_count": 6,
   "metadata": {},
   "outputs": [],
   "source": [
    "img1=cv2.imread(\"match_1.JPG\")\n",
    "img2=cv2.imread(\"match_2.JPG\")\n",
    "\n",
    "g1=cv2.cvtColor(img1,cv2.COLOR_BGR2GRAY)\n",
    "g2=cv2.cvtColor(img2,cv2.COLOR_BGR2GRAY)\n",
    "\n",
    "sift = cv2.xfeatures2d.SIFT_create()\n",
    "\n",
    "kp1,des1=sift.detectAndCompute(g1,None)\n",
    "kp2,des2=sift.detectAndCompute(g2,None)\n"
   ]
  },
  {
   "cell_type": "code",
   "execution_count": 10,
   "metadata": {},
   "outputs": [],
   "source": [
    "index = dict(algorithm=1,trees=5)\n",
    "search=dict(checks=50)\n",
    "flann = cv2.FlannBasedMatcher(index,search)\n",
    "matches=flann.knnMatch(des1,des2,k=2)\n"
   ]
  },
  {
   "cell_type": "code",
   "execution_count": 1,
   "metadata": {},
   "outputs": [
    {
     "ename": "NameError",
     "evalue": "name 'matches' is not defined",
     "output_type": "error",
     "traceback": [
      "\u001b[1;31m---------------------------------------------------------------------------\u001b[0m",
      "\u001b[1;31mNameError\u001b[0m                                 Traceback (most recent call last)",
      "\u001b[1;32me:\\CMUsemtwo\\opencv\\feature_match.ipynb Cell 4\u001b[0m in \u001b[0;36m<cell line: 2>\u001b[1;34m()\u001b[0m\n\u001b[0;32m      <a href='vscode-notebook-cell:/e%3A/CMUsemtwo/opencv/feature_match.ipynb#W3sZmlsZQ%3D%3D?line=0'>1</a>\u001b[0m good\u001b[39m=\u001b[39m[]\n\u001b[1;32m----> <a href='vscode-notebook-cell:/e%3A/CMUsemtwo/opencv/feature_match.ipynb#W3sZmlsZQ%3D%3D?line=1'>2</a>\u001b[0m \u001b[39mfor\u001b[39;00m i,(m,n) \u001b[39min\u001b[39;00m \u001b[39menumerate\u001b[39m(matches):\n\u001b[0;32m      <a href='vscode-notebook-cell:/e%3A/CMUsemtwo/opencv/feature_match.ipynb#W3sZmlsZQ%3D%3D?line=2'>3</a>\u001b[0m     \u001b[39mif\u001b[39;00m m\u001b[39m.\u001b[39mdistance \u001b[39m<\u001b[39m \u001b[39m0.3\u001b[39m \u001b[39m*\u001b[39m n\u001b[39m.\u001b[39mdistance:\n\u001b[0;32m      <a href='vscode-notebook-cell:/e%3A/CMUsemtwo/opencv/feature_match.ipynb#W3sZmlsZQ%3D%3D?line=3'>4</a>\u001b[0m         good\u001b[39m.\u001b[39mappend(m)\n",
      "\u001b[1;31mNameError\u001b[0m: name 'matches' is not defined"
     ]
    }
   ],
   "source": [
    "good=[]\n",
    "for i,(m,n) in enumerate(matches):\n",
    "    if m.distance < 0.3 * n.distance:\n",
    "        good.append(m)\n",
    "\n",
    "ret=cv2.drawMatchesKnn(img1,kp1,img2,kp2,[good],None)\n",
    "\n",
    "cv2.imshow('',ret)\n",
    "cv2.waitKey(0)"
   ]
  }
 ],
 "metadata": {
  "kernelspec": {
   "display_name": "Python 3.9.12 ('base')",
   "language": "python",
   "name": "python3"
  },
  "language_info": {
   "codemirror_mode": {
    "name": "ipython",
    "version": 3
   },
   "file_extension": ".py",
   "mimetype": "text/x-python",
   "name": "python",
   "nbconvert_exporter": "python",
   "pygments_lexer": "ipython3",
   "version": "3.9.12"
  },
  "orig_nbformat": 4,
  "vscode": {
   "interpreter": {
    "hash": "49cb93f377a7abe7414b7b0f21fb3017538004a126cf690fb524202736b7fb92"
   }
  }
 },
 "nbformat": 4,
 "nbformat_minor": 2
}
