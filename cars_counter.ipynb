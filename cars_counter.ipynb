{
 "cells": [
  {
   "cell_type": "code",
   "execution_count": 1,
   "metadata": {},
   "outputs": [],
   "source": [
    "import cv2\n",
    "import numpy as np"
   ]
  },
  {
   "cell_type": "code",
   "execution_count": 12,
   "metadata": {},
   "outputs": [],
   "source": [
    "cap = cv2.VideoCapture('cars.mp4')\n",
    "\n",
    "# background->delete\n",
    "bgsubmog=cv2.bgsegm.createBackgroundSubtractorMOG()\n",
    "\n",
    "kernel = cv2.getStructuringElement(cv2.MORPH_RECT, (5,5))\n",
    "\n",
    "min_w=80\n",
    "min_h=80\n",
    "\n",
    "# detection line\n",
    "line_h=300\n",
    "\n",
    "\n",
    "offset = 5\n",
    "def get_center(x,y,w,h):\n",
    "    return x+w/2,y+h/2\n",
    "\n",
    "car_num=0\n",
    "\n",
    "while True:\n",
    "    ret,frame = cap.read()\n",
    "    if ret:\n",
    "        cv2.cvtColor(frame,cv2.COLOR_BGR2GRAY)\n",
    "        # gussian filter\n",
    "        blur=cv2.GaussianBlur(frame,(3,3),5)\n",
    "        # background\n",
    "        mask=bgsubmog.apply(blur)\n",
    "\n",
    "\n",
    "        # erode small noise\n",
    "        erode = cv2.erode(mask,kernel)\n",
    "        # after get rid of small -> dilet\n",
    "        dilate = cv2.dilate(erode,kernel,iterations=2)\n",
    "\n",
    "        # close, get ride of small piece inside\n",
    "        close = cv2.morphologyEx(dilate,cv2.MORPH_CLOSE,kernel,iterations=3)\n",
    "\n",
    "        # get outlook,contours\n",
    "        cnts, h=cv2.findContours(close,cv2.RETR_TREE, cv2.CHAIN_APPROX_SIMPLE)\n",
    "\n",
    "\n",
    "        # draw line\n",
    "        cv2.line(frame,(10,line_h),(600,line_h),(255,0,0),4)\n",
    "\n",
    "        \n",
    "        centers=[]\n",
    "\n",
    "        for (i,c) in enumerate(cnts):\n",
    "            # draw rectangle\n",
    "            (x,y,w,h)=cv2.boundingRect(c)\n",
    "\n",
    "            # get cars\n",
    "            if(w<min_w or h<min_h):\n",
    "                continue\n",
    "            cv2.rectangle(frame,(x,y),(x+w,y+h),(0,0,255),2)\n",
    "            center=get_center(x,y,w,h)\n",
    "            centers.append(center)\n",
    "\n",
    "        for (x,y) in centers:\n",
    "            # if between detection line\n",
    "            if((y>line_h-offset) and (y<line_h+offset)):\n",
    "                car_num+=1\n",
    "\n",
    "        cv2.putText(frame,\"Cars number:\"+str(car_num),(20,20),cv2.FONT_HERSHEY_SIMPLEX,1,(255,0,0),2)\n",
    "        cv2.imshow('a',frame)\n",
    "\n",
    "    key=cv2.waitKey(1)\n",
    "    if(key==27):\n",
    "        break\n",
    "cap.release()\n",
    "cv2.destroyAllWindows()\n"
   ]
  }
 ],
 "metadata": {
  "kernelspec": {
   "display_name": "Python 3.9.12 ('base')",
   "language": "python",
   "name": "python3"
  },
  "language_info": {
   "codemirror_mode": {
    "name": "ipython",
    "version": 3
   },
   "file_extension": ".py",
   "mimetype": "text/x-python",
   "name": "python",
   "nbconvert_exporter": "python",
   "pygments_lexer": "ipython3",
   "version": "3.9.12"
  },
  "orig_nbformat": 4,
  "vscode": {
   "interpreter": {
    "hash": "49cb93f377a7abe7414b7b0f21fb3017538004a126cf690fb524202736b7fb92"
   }
  }
 },
 "nbformat": 4,
 "nbformat_minor": 2
}
